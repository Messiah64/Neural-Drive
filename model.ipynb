{
 "cells": [
  {
   "cell_type": "code",
   "execution_count": 1,
   "metadata": {},
   "outputs": [
    {
     "name": "stdout",
     "output_type": "stream",
     "text": [
      "                    Description             Value\n",
      "0                    Session id               123\n",
      "1                        Target             Label\n",
      "2                   Target type            Binary\n",
      "3                Target mapping     NO: 0, YES: 1\n",
      "4           Original data shape         (6238, 4)\n",
      "5        Transformed data shape         (6238, 4)\n",
      "6   Transformed train set shape         (4366, 4)\n",
      "7    Transformed test set shape         (1872, 4)\n",
      "8              Numeric features                 3\n",
      "9                    Preprocess              True\n",
      "10              Imputation type            simple\n",
      "11           Numeric imputation              mean\n",
      "12       Categorical imputation              mode\n",
      "13               Fold Generator   StratifiedKFold\n",
      "14                  Fold Number                10\n",
      "15                     CPU Jobs                -1\n",
      "16                      Use GPU             False\n",
      "17               Log Experiment             False\n",
      "18              Experiment Name  clf-default-name\n",
      "19                          USI              c03e\n"
     ]
    }
   ],
   "source": [
    "import pandas as pd\n",
    "from pycaret.classification import *\n",
    "\n",
    "# Load the dataset\n",
    "df = pd.read_csv('data.csv')\n",
    "\n",
    "# Set up the classification environment in PyCaret\n",
    "clf = setup(data=df, target='Label', session_id=123, html=False)\n"
   ]
  },
  {
   "cell_type": "code",
   "execution_count": 2,
   "metadata": {},
   "outputs": [
    {
     "name": "stderr",
     "output_type": "stream",
     "text": [
      "                                                           "
     ]
    },
    {
     "name": "stdout",
     "output_type": "stream",
     "text": [
      "                                    Model  Accuracy     AUC  Recall   Prec.  \\\n",
      "qda       Quadratic Discriminant Analysis    1.0000  1.0000  1.0000  1.0000   \n",
      "gbc          Gradient Boosting Classifier    0.9998  1.0000  0.9998  0.9998   \n",
      "xgboost         Extreme Gradient Boosting    0.9993  1.0000  0.9993  0.9993   \n",
      "lightgbm  Light Gradient Boosting Machine    0.9968  1.0000  0.9968  0.9968   \n",
      "rf               Random Forest Classifier    0.9936  0.9999  0.9936  0.9937   \n",
      "dt               Decision Tree Classifier    0.9927  0.9928  0.9927  0.9927   \n",
      "et                 Extra Trees Classifier    0.9927  0.9999  0.9927  0.9927   \n",
      "ada                  Ada Boost Classifier    0.7829  0.8984  0.7829  0.7897   \n",
      "knn                K Neighbors Classifier    0.7213  0.7994  0.7213  0.7216   \n",
      "nb                            Naive Bayes    0.5621  0.5493  0.5621  0.5669   \n",
      "ridge                    Ridge Classifier    0.5616  0.5989  0.5616  0.5607   \n",
      "lda          Linear Discriminant Analysis    0.5616  0.5989  0.5616  0.5607   \n",
      "lr                    Logistic Regression    0.5614  0.5989  0.5614  0.5605   \n",
      "svm                   SVM - Linear Kernel    0.5195  0.5222  0.5195  0.4656   \n",
      "dummy                    Dummy Classifier    0.5179  0.5000  0.5179  0.2682   \n",
      "\n",
      "              F1   Kappa     MCC  TT (Sec)  \n",
      "qda       1.0000  1.0000  1.0000     0.010  \n",
      "gbc       0.9998  0.9995  0.9995     0.072  \n",
      "xgboost   0.9993  0.9986  0.9986     0.211  \n",
      "lightgbm  0.9968  0.9936  0.9936     0.122  \n",
      "rf        0.9936  0.9872  0.9872     0.086  \n",
      "dt        0.9927  0.9853  0.9854     0.010  \n",
      "et        0.9927  0.9853  0.9854     0.041  \n",
      "ada       0.7815  0.5652  0.5717     0.038  \n",
      "knn       0.7210  0.4414  0.4419     0.283  \n",
      "nb        0.5599  0.1285  0.1305     0.010  \n",
      "ridge     0.5593  0.1186  0.1194     0.010  \n",
      "lda       0.5593  0.1186  0.1194     0.010  \n",
      "lr        0.5590  0.1181  0.1190     0.412  \n",
      "svm       0.4165  0.0363  0.0232     0.013  \n",
      "dummy     0.3534  0.0000  0.0000     0.009  \n"
     ]
    },
    {
     "name": "stderr",
     "output_type": "stream",
     "text": [
      "\r"
     ]
    }
   ],
   "source": [
    "# Compare different models to find the best one\n",
    "best_model = compare_models()"
   ]
  },
  {
   "cell_type": "code",
   "execution_count": 3,
   "metadata": {},
   "outputs": [],
   "source": [
    "# Finalize the best model\n",
    "final_model = finalize_model(best_model)"
   ]
  },
  {
   "cell_type": "code",
   "execution_count": 4,
   "metadata": {},
   "outputs": [
    {
     "data": {
      "application/vnd.jupyter.widget-view+json": {
       "model_id": "cb59e153f1bd4bf7a6d67a84cbf23825",
       "version_major": 2,
       "version_minor": 0
      },
      "text/plain": [
       "interactive(children=(ToggleButtons(description='Plot Type:', icons=('',), options=(('Pipeline Plot', 'pipelin…"
      ]
     },
     "metadata": {},
     "output_type": "display_data"
    }
   ],
   "source": [
    "# Evaluate the best model\n",
    "evaluate_model(final_model)"
   ]
  },
  {
   "cell_type": "code",
   "execution_count": 6,
   "metadata": {},
   "outputs": [
    {
     "name": "stdout",
     "output_type": "stream",
     "text": [
      "Transformation Pipeline and Model Successfully Saved\n"
     ]
    },
    {
     "data": {
      "text/plain": [
       "(Pipeline(memory=Memory(location=None),\n",
       "          steps=[('label_encoding',\n",
       "                  TransformerWrapperWithInverse(exclude=None, include=None,\n",
       "                                                transformer=LabelEncoder())),\n",
       "                 ('numerical_imputer',\n",
       "                  TransformerWrapper(exclude=None,\n",
       "                                     include=['Timestamp', 'Raw_EMG',\n",
       "                                              'Independent_Component'],\n",
       "                                     transformer=SimpleImputer(add_indicator=False,\n",
       "                                                               copy=True,\n",
       "                                                               fill_value=None,\n",
       "                                                               keep_empty_features=F...\n",
       "                                                               strategy='mean'))),\n",
       "                 ('categorical_imputer',\n",
       "                  TransformerWrapper(exclude=None, include=[],\n",
       "                                     transformer=SimpleImputer(add_indicator=False,\n",
       "                                                               copy=True,\n",
       "                                                               fill_value=None,\n",
       "                                                               keep_empty_features=False,\n",
       "                                                               missing_values=nan,\n",
       "                                                               strategy='most_frequent'))),\n",
       "                 ('actual_estimator',\n",
       "                  QuadraticDiscriminantAnalysis(priors=None, reg_param=0.0,\n",
       "                                                store_covariance=False,\n",
       "                                                tol=0.0001))],\n",
       "          verbose=False),\n",
       " 'best_emg_model.pkl')"
      ]
     },
     "execution_count": 6,
     "metadata": {},
     "output_type": "execute_result"
    }
   ],
   "source": [
    "# Save the model\n",
    "save_model(final_model, 'best_emg_model')"
   ]
  }
 ],
 "metadata": {
  "kernelspec": {
   "display_name": "subvocal",
   "language": "python",
   "name": "python3"
  },
  "language_info": {
   "codemirror_mode": {
    "name": "ipython",
    "version": 3
   },
   "file_extension": ".py",
   "mimetype": "text/x-python",
   "name": "python",
   "nbconvert_exporter": "python",
   "pygments_lexer": "ipython3",
   "version": "3.10.14"
  }
 },
 "nbformat": 4,
 "nbformat_minor": 2
}
