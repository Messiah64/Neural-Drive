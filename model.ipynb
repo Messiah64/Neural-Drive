{
 "cells": [
  {
   "cell_type": "code",
   "execution_count": 2,
   "metadata": {},
   "outputs": [
    {
     "name": "stdout",
     "output_type": "stream",
     "text": [
      "                    Description             Value\n",
      "0                    Session id               123\n",
      "1                        Target             Label\n",
      "2                   Target type            Binary\n",
      "3                Target mapping     NO: 0, YES: 1\n",
      "4           Original data shape         (6035, 4)\n",
      "5        Transformed data shape         (6035, 4)\n",
      "6   Transformed train set shape         (4224, 4)\n",
      "7    Transformed test set shape         (1811, 4)\n",
      "8              Numeric features                 3\n",
      "9                    Preprocess              True\n",
      "10              Imputation type            simple\n",
      "11           Numeric imputation              mean\n",
      "12       Categorical imputation              mode\n",
      "13               Fold Generator   StratifiedKFold\n",
      "14                  Fold Number                10\n",
      "15                     CPU Jobs                -1\n",
      "16                      Use GPU             False\n",
      "17               Log Experiment             False\n",
      "18              Experiment Name  clf-default-name\n",
      "19                          USI              67c1\n"
     ]
    }
   ],
   "source": [
    "import pandas as pd\n",
    "from pycaret.classification import *\n",
    "\n",
    "# Load the dataset\n",
    "df = pd.read_csv('ndata.csv')\n",
    "\n",
    "# Set up the classification environment in PyCaret\n",
    "clf = setup(data=df, target='Label', session_id=123, html=False)\n"
   ]
  },
  {
   "cell_type": "code",
   "execution_count": 3,
   "metadata": {},
   "outputs": [
    {
     "name": "stderr",
     "output_type": "stream",
     "text": [
      "                                                           "
     ]
    },
    {
     "name": "stdout",
     "output_type": "stream",
     "text": [
      "                                    Model  Accuracy     AUC  Recall   Prec.  \\\n",
      "qda       Quadratic Discriminant Analysis    1.0000  1.0000  1.0000  1.0000   \n",
      "gbc          Gradient Boosting Classifier    0.9991  1.0000  0.9991  0.9991   \n",
      "dt               Decision Tree Classifier    0.9988  0.9988  0.9988  0.9988   \n",
      "lightgbm  Light Gradient Boosting Machine    0.9986  1.0000  0.9986  0.9986   \n",
      "rf               Random Forest Classifier    0.9938  0.9995  0.9938  0.9939   \n",
      "et                 Extra Trees Classifier    0.9931  0.9994  0.9931  0.9933   \n",
      "ada                  Ada Boost Classifier    0.9780  0.9960  0.9780  0.9790   \n",
      "knn                K Neighbors Classifier    0.8523  0.9077  0.8523  0.8537   \n",
      "nb                            Naive Bayes    0.8153  0.8872  0.8153  0.8246   \n",
      "lr                    Logistic Regression    0.5405  0.5227  0.5405  0.5848   \n",
      "ridge                    Ridge Classifier    0.5405  0.5227  0.5405  0.5848   \n",
      "lda          Linear Discriminant Analysis    0.5405  0.5227  0.5405  0.5848   \n",
      "dummy                    Dummy Classifier    0.5095  0.5000  0.5095  0.2596   \n",
      "svm                   SVM - Linear Kernel    0.5036  0.4998  0.5036  0.3240   \n",
      "\n",
      "              F1   Kappa     MCC  TT (Sec)  \n",
      "qda       1.0000  1.0000  1.0000     0.007  \n",
      "gbc       0.9991  0.9981  0.9981     0.065  \n",
      "dt        0.9988  0.9976  0.9976     0.007  \n",
      "lightgbm  0.9986  0.9972  0.9972     0.259  \n",
      "rf        0.9938  0.9877  0.9878     0.050  \n",
      "et        0.9931  0.9863  0.9864     0.035  \n",
      "ada       0.9780  0.9560  0.9569     0.027  \n",
      "knn       0.8522  0.7047  0.7060     0.011  \n",
      "nb        0.8144  0.6316  0.6402     0.006  \n",
      "lr        0.4926  0.0705  0.1108     0.303  \n",
      "ridge     0.4926  0.0705  0.1108     0.006  \n",
      "lda       0.4926  0.0705  0.1108     0.006  \n",
      "dummy     0.3439  0.0000  0.0000     0.007  \n",
      "svm       0.3410 -0.0002 -0.0055     0.009  \n"
     ]
    },
    {
     "name": "stderr",
     "output_type": "stream",
     "text": [
      "\r"
     ]
    }
   ],
   "source": [
    "# Compare different models to find the best one\n",
    "best_model = compare_models()"
   ]
  },
  {
   "cell_type": "code",
   "execution_count": 4,
   "metadata": {},
   "outputs": [],
   "source": [
    "# Finalize the best model\n",
    "final_model = finalize_model(best_model)"
   ]
  },
  {
   "cell_type": "code",
   "execution_count": 5,
   "metadata": {},
   "outputs": [
    {
     "data": {
      "application/vnd.jupyter.widget-view+json": {
       "model_id": "d8d4592ae9f245ae8b06a308f0a2c4cd",
       "version_major": 2,
       "version_minor": 0
      },
      "text/plain": [
       "interactive(children=(ToggleButtons(description='Plot Type:', icons=('',), options=(('Pipeline Plot', 'pipelin…"
      ]
     },
     "metadata": {},
     "output_type": "display_data"
    }
   ],
   "source": [
    "# Evaluate the best model\n",
    "evaluate_model(final_model)"
   ]
  },
  {
   "cell_type": "code",
   "execution_count": 6,
   "metadata": {},
   "outputs": [
    {
     "name": "stdout",
     "output_type": "stream",
     "text": [
      "Transformation Pipeline and Model Successfully Saved\n"
     ]
    },
    {
     "data": {
      "text/plain": [
       "(Pipeline(memory=Memory(location=None),\n",
       "          steps=[('label_encoding',\n",
       "                  TransformerWrapperWithInverse(exclude=None, include=None,\n",
       "                                                transformer=LabelEncoder())),\n",
       "                 ('numerical_imputer',\n",
       "                  TransformerWrapper(exclude=None,\n",
       "                                     include=['Timestamp', 'Raw_EMG',\n",
       "                                              'Independent_Component'],\n",
       "                                     transformer=SimpleImputer(add_indicator=False,\n",
       "                                                               copy=True,\n",
       "                                                               fill_value=None,\n",
       "                                                               keep_empty_features=F...\n",
       "                                                               strategy='mean'))),\n",
       "                 ('categorical_imputer',\n",
       "                  TransformerWrapper(exclude=None, include=[],\n",
       "                                     transformer=SimpleImputer(add_indicator=False,\n",
       "                                                               copy=True,\n",
       "                                                               fill_value=None,\n",
       "                                                               keep_empty_features=False,\n",
       "                                                               missing_values=nan,\n",
       "                                                               strategy='most_frequent'))),\n",
       "                 ('actual_estimator',\n",
       "                  QuadraticDiscriminantAnalysis(priors=None, reg_param=0.0,\n",
       "                                                store_covariance=False,\n",
       "                                                tol=0.0001))],\n",
       "          verbose=False),\n",
       " 'nbest.pkl')"
      ]
     },
     "execution_count": 6,
     "metadata": {},
     "output_type": "execute_result"
    }
   ],
   "source": [
    "# Save the model\n",
    "save_model(final_model, 'nbest')"
   ]
  }
 ],
 "metadata": {
  "kernelspec": {
   "display_name": "subvocal",
   "language": "python",
   "name": "python3"
  },
  "language_info": {
   "codemirror_mode": {
    "name": "ipython",
    "version": 3
   },
   "file_extension": ".py",
   "mimetype": "text/x-python",
   "name": "python",
   "nbconvert_exporter": "python",
   "pygments_lexer": "ipython3",
   "version": "3.9.20"
  }
 },
 "nbformat": 4,
 "nbformat_minor": 2
}
