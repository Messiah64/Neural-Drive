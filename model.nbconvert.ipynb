{
 "cells": [
  {
   "cell_type": "code",
   "execution_count": 1,
   "metadata": {
    "execution": {
     "iopub.execute_input": "2024-11-18T08:17:57.942779Z",
     "iopub.status.busy": "2024-11-18T08:17:57.942411Z",
     "iopub.status.idle": "2024-11-18T08:17:59.899775Z",
     "shell.execute_reply": "2024-11-18T08:17:59.899469Z"
    }
   },
   "outputs": [
    {
     "name": "stdout",
     "output_type": "stream",
     "text": [
      "                    Description             Value\n",
      "0                    Session id               123\n",
      "1                        Target             Label\n",
      "2                   Target type            Binary\n",
      "3                Target mapping    GO: 0, STOP: 1\n",
      "4           Original data shape         (5437, 4)\n",
      "5        Transformed data shape         (5437, 4)\n",
      "6   Transformed train set shape         (3805, 4)\n",
      "7    Transformed test set shape         (1632, 4)\n",
      "8              Numeric features                 3\n",
      "9                    Preprocess              True\n",
      "10              Imputation type            simple\n",
      "11           Numeric imputation              mean\n",
      "12       Categorical imputation              mode\n",
      "13               Fold Generator   StratifiedKFold\n",
      "14                  Fold Number                10\n",
      "15                     CPU Jobs                -1\n",
      "16                      Use GPU             False\n",
      "17               Log Experiment             False\n",
      "18              Experiment Name  clf-default-name\n",
      "19                          USI              735b\n"
     ]
    }
   ],
   "source": [
    "import pandas as pd\n",
    "from pycaret.classification import *\n",
    "\n",
    "# Load the dataset\n",
    "df = pd.read_csv('ndata.csv')\n",
    "\n",
    "# Set up the classification environment in PyCaret\n",
    "clf = setup(data=df, target='Label', session_id=123, html=False)\n"
   ]
  },
  {
   "cell_type": "code",
   "execution_count": 2,
   "metadata": {
    "execution": {
     "iopub.execute_input": "2024-11-18T08:17:59.916907Z",
     "iopub.status.busy": "2024-11-18T08:17:59.916775Z",
     "iopub.status.idle": "2024-11-18T08:18:06.625332Z",
     "shell.execute_reply": "2024-11-18T08:18:06.625032Z"
    }
   },
   "outputs": [
    {
     "name": "stderr",
     "output_type": "stream",
     "text": [
      "\r",
      "Processing:   0%|          | 0/61 [00:00<?, ?it/s]"
     ]
    },
    {
     "name": "stderr",
     "output_type": "stream",
     "text": [
      "\r",
      "Processing:   8%|▊         | 5/61 [00:02<00:29,  1.88it/s]"
     ]
    },
    {
     "name": "stderr",
     "output_type": "stream",
     "text": [
      "\r",
      "Processing:  15%|█▍        | 9/61 [00:02<00:14,  3.70it/s]"
     ]
    },
    {
     "name": "stderr",
     "output_type": "stream",
     "text": [
      "\r",
      "Processing:  25%|██▍       | 15/61 [00:02<00:06,  7.29it/s]"
     ]
    },
    {
     "name": "stderr",
     "output_type": "stream",
     "text": [
      "\r",
      "Processing:  34%|███▍      | 21/61 [00:03<00:03, 11.17it/s]"
     ]
    },
    {
     "name": "stderr",
     "output_type": "stream",
     "text": [
      "\r",
      "Processing:  44%|████▍     | 27/61 [00:03<00:02, 15.79it/s]"
     ]
    },
    {
     "name": "stderr",
     "output_type": "stream",
     "text": [
      "\r",
      "Processing:  51%|█████     | 31/61 [00:03<00:02, 13.24it/s]"
     ]
    },
    {
     "name": "stderr",
     "output_type": "stream",
     "text": [
      "\r",
      "Processing:  61%|██████    | 37/61 [00:03<00:01, 14.79it/s]"
     ]
    },
    {
     "name": "stderr",
     "output_type": "stream",
     "text": [
      "\r",
      "Processing:  67%|██████▋   | 41/61 [00:04<00:01, 11.39it/s]"
     ]
    },
    {
     "name": "stderr",
     "output_type": "stream",
     "text": [
      "\r",
      "Processing:  77%|███████▋  | 47/61 [00:04<00:00, 15.59it/s]"
     ]
    },
    {
     "name": "stderr",
     "output_type": "stream",
     "text": [
      "\r",
      "Processing:  82%|████████▏ | 50/61 [00:05<00:00, 13.81it/s]"
     ]
    },
    {
     "name": "stderr",
     "output_type": "stream",
     "text": [
      "\r",
      "Processing:  87%|████████▋ | 53/61 [00:06<00:01,  5.93it/s]"
     ]
    },
    {
     "name": "stderr",
     "output_type": "stream",
     "text": [
      "\r",
      "Processing:  97%|█████████▋| 59/61 [00:06<00:00,  9.08it/s]"
     ]
    },
    {
     "name": "stderr",
     "output_type": "stream",
     "text": [
      "\r",
      "                                                           "
     ]
    },
    {
     "name": "stdout",
     "output_type": "stream",
     "text": [
      "                                    Model  Accuracy     AUC  Recall   Prec.  \\\n",
      "dt               Decision Tree Classifier    1.0000  1.0000  1.0000  1.0000   \n",
      "qda       Quadratic Discriminant Analysis    1.0000  1.0000  1.0000  1.0000   \n",
      "gbc          Gradient Boosting Classifier    1.0000  1.0000  1.0000  1.0000   \n",
      "lightgbm  Light Gradient Boosting Machine    1.0000  1.0000  1.0000  1.0000   \n",
      "ada                  Ada Boost Classifier    0.9997  1.0000  0.9997  0.9997   \n",
      "rf               Random Forest Classifier    0.9992  1.0000  0.9992  0.9992   \n",
      "et                 Extra Trees Classifier    0.9968  0.9999  0.9968  0.9969   \n",
      "lr                    Logistic Regression    0.8557  0.8131  0.8557  0.8871   \n",
      "knn                K Neighbors Classifier    0.6557  0.7178  0.6557  0.6558   \n",
      "svm                   SVM - Linear Kernel    0.5659  0.6330  0.5659  0.6042   \n",
      "nb                            Naive Bayes    0.5612  0.4814  0.5612  0.4813   \n",
      "dummy                    Dummy Classifier    0.5148  0.5000  0.5148  0.2651   \n",
      "ridge                    Ridge Classifier    0.4387  0.4476  0.4387  0.3206   \n",
      "lda          Linear Discriminant Analysis    0.4384  0.4476  0.4384  0.3205   \n",
      "\n",
      "              F1   Kappa     MCC  TT (Sec)  \n",
      "dt        1.0000  1.0000  1.0000     0.005  \n",
      "qda       1.0000  1.0000  1.0000     0.005  \n",
      "gbc       1.0000  1.0000  1.0000     0.054  \n",
      "lightgbm  1.0000  1.0000  1.0000     0.147  \n",
      "ada       0.9997  0.9995  0.9995     0.023  \n",
      "rf        0.9992  0.9984  0.9984     0.040  \n",
      "et        0.9968  0.9937  0.9937     0.031  \n",
      "lr        0.8518  0.7087  0.7406     0.266  \n",
      "knn       0.6554  0.3103  0.3107     0.011  \n",
      "svm       0.4994  0.1371  0.1821     0.007  \n",
      "nb        0.4140  0.0959  0.1117     0.005  \n",
      "dummy     0.3500  0.0000  0.0000     0.004  \n",
      "ridge     0.3574 -0.1463 -0.2325     0.005  \n",
      "lda       0.3572 -0.1468 -0.2329     0.005  \n"
     ]
    },
    {
     "name": "stderr",
     "output_type": "stream",
     "text": [
      "\r"
     ]
    }
   ],
   "source": [
    "# Compare different models to find the best one\n",
    "best_model = compare_models()"
   ]
  },
  {
   "cell_type": "code",
   "execution_count": 3,
   "metadata": {
    "execution": {
     "iopub.execute_input": "2024-11-18T08:18:06.627340Z",
     "iopub.status.busy": "2024-11-18T08:18:06.627123Z",
     "iopub.status.idle": "2024-11-18T08:18:06.702034Z",
     "shell.execute_reply": "2024-11-18T08:18:06.701687Z"
    }
   },
   "outputs": [],
   "source": [
    "# Finalize the best model\n",
    "final_model = finalize_model(best_model)"
   ]
  },
  {
   "cell_type": "code",
   "execution_count": 4,
   "metadata": {
    "execution": {
     "iopub.execute_input": "2024-11-18T08:18:06.703582Z",
     "iopub.status.busy": "2024-11-18T08:18:06.703485Z",
     "iopub.status.idle": "2024-11-18T08:18:06.930280Z",
     "shell.execute_reply": "2024-11-18T08:18:06.928997Z"
    }
   },
   "outputs": [
    {
     "data": {
      "application/vnd.jupyter.widget-view+json": {
       "model_id": "c554a464378a468d8a10496607b739ce",
       "version_major": 2,
       "version_minor": 0
      },
      "text/plain": [
       "interactive(children=(ToggleButtons(description='Plot Type:', icons=('',), options=(('Pipeline Plot', 'pipelin…"
      ]
     },
     "metadata": {},
     "output_type": "display_data"
    }
   ],
   "source": [
    "# Evaluate the best model\n",
    "evaluate_model(final_model)"
   ]
  },
  {
   "cell_type": "code",
   "execution_count": 5,
   "metadata": {
    "execution": {
     "iopub.execute_input": "2024-11-18T08:18:06.935450Z",
     "iopub.status.busy": "2024-11-18T08:18:06.935176Z",
     "iopub.status.idle": "2024-11-18T08:18:07.012681Z",
     "shell.execute_reply": "2024-11-18T08:18:07.011847Z"
    }
   },
   "outputs": [
    {
     "name": "stdout",
     "output_type": "stream",
     "text": [
      "Transformation Pipeline and Model Successfully Saved\n"
     ]
    },
    {
     "data": {
      "text/plain": [
       "(Pipeline(memory=Memory(location=None),\n",
       "          steps=[('label_encoding',\n",
       "                  TransformerWrapperWithInverse(exclude=None, include=None,\n",
       "                                                transformer=LabelEncoder())),\n",
       "                 ('numerical_imputer',\n",
       "                  TransformerWrapper(exclude=None,\n",
       "                                     include=['Timestamp', 'Raw_EMG',\n",
       "                                              'Independent_Component'],\n",
       "                                     transformer=SimpleImputer(add_indicator=False,\n",
       "                                                               copy=True,\n",
       "                                                               fill_value=None,\n",
       "                                                               keep_empty_features=F...\n",
       "                                                               missing_values=nan,\n",
       "                                                               strategy='most_frequent'))),\n",
       "                 ('actual_estimator',\n",
       "                  DecisionTreeClassifier(ccp_alpha=0.0, class_weight=None,\n",
       "                                         criterion='gini', max_depth=None,\n",
       "                                         max_features=None, max_leaf_nodes=None,\n",
       "                                         min_impurity_decrease=0.0,\n",
       "                                         min_samples_leaf=1, min_samples_split=2,\n",
       "                                         min_weight_fraction_leaf=0.0,\n",
       "                                         monotonic_cst=None, random_state=123,\n",
       "                                         splitter='best'))],\n",
       "          verbose=False),\n",
       " 'nbest.pkl')"
      ]
     },
     "execution_count": 5,
     "metadata": {},
     "output_type": "execute_result"
    }
   ],
   "source": [
    "# Save the model\n",
    "save_model(final_model, 'nbest')"
   ]
  }
 ],
 "metadata": {
  "kernelspec": {
   "display_name": "subvocal",
   "language": "python",
   "name": "python3"
  },
  "language_info": {
   "codemirror_mode": {
    "name": "ipython",
    "version": 3
   },
   "file_extension": ".py",
   "mimetype": "text/x-python",
   "name": "python",
   "nbconvert_exporter": "python",
   "pygments_lexer": "ipython3",
   "version": "3.9.20"
  },
  "widgets": {
   "application/vnd.jupyter.widget-state+json": {
    "state": {
     "2c166ba587d142c0a4ffbf630feb1905": {
      "model_module": "@jupyter-widgets/base",
      "model_module_version": "2.0.0",
      "model_name": "LayoutModel",
      "state": {
       "_model_module": "@jupyter-widgets/base",
       "_model_module_version": "2.0.0",
       "_model_name": "LayoutModel",
       "_view_count": null,
       "_view_module": "@jupyter-widgets/base",
       "_view_module_version": "2.0.0",
       "_view_name": "LayoutView",
       "align_content": null,
       "align_items": null,
       "align_self": null,
       "border_bottom": null,
       "border_left": null,
       "border_right": null,
       "border_top": null,
       "bottom": null,
       "display": null,
       "flex": null,
       "flex_flow": null,
       "grid_area": null,
       "grid_auto_columns": null,
       "grid_auto_flow": null,
       "grid_auto_rows": null,
       "grid_column": null,
       "grid_gap": null,
       "grid_row": null,
       "grid_template_areas": null,
       "grid_template_columns": null,
       "grid_template_rows": null,
       "height": null,
       "justify_content": null,
       "justify_items": null,
       "left": null,
       "margin": null,
       "max_height": null,
       "max_width": null,
       "min_height": null,
       "min_width": null,
       "object_fit": null,
       "object_position": null,
       "order": null,
       "overflow": null,
       "padding": null,
       "right": null,
       "top": null,
       "visibility": null,
       "width": null
      }
     },
     "303db9ab845948d9be2f74b7e53c9c98": {
      "model_module": "@jupyter-widgets/controls",
      "model_module_version": "2.0.0",
      "model_name": "ToggleButtonsStyleModel",
      "state": {
       "_model_module": "@jupyter-widgets/controls",
       "_model_module_version": "2.0.0",
       "_model_name": "ToggleButtonsStyleModel",
       "_view_count": null,
       "_view_module": "@jupyter-widgets/base",
       "_view_module_version": "2.0.0",
       "_view_name": "StyleView",
       "button_width": "",
       "description_width": "",
       "font_weight": ""
      }
     },
     "417f4ccf6d5e4fab999bb2636b28c039": {
      "model_module": "@jupyter-widgets/controls",
      "model_module_version": "2.0.0",
      "model_name": "ToggleButtonsModel",
      "state": {
       "_dom_classes": [],
       "_model_module": "@jupyter-widgets/controls",
       "_model_module_version": "2.0.0",
       "_model_name": "ToggleButtonsModel",
       "_options_labels": [
        "Pipeline Plot",
        "Hyperparameters",
        "AUC",
        "Confusion Matrix",
        "Threshold",
        "Precision Recall",
        "Prediction Error",
        "Class Report",
        "Feature Selection",
        "Learning Curve",
        "Manifold Learning",
        "Calibration Curve",
        "Validation Curve",
        "Dimensions",
        "Feature Importance",
        "Feature Importance (All)",
        "Decision Boundary",
        "Lift Chart",
        "Gain Chart",
        "Decision Tree",
        "KS Statistic Plot"
       ],
       "_view_count": null,
       "_view_module": "@jupyter-widgets/controls",
       "_view_module_version": "2.0.0",
       "_view_name": "ToggleButtonsView",
       "button_style": "",
       "description": "Plot Type:",
       "description_allow_html": false,
       "disabled": false,
       "icons": [
        ""
       ],
       "index": 0,
       "layout": "IPY_MODEL_a30a4893a0af4dbf9f835d491a8dbf16",
       "style": "IPY_MODEL_303db9ab845948d9be2f74b7e53c9c98",
       "tabbable": null,
       "tooltip": null,
       "tooltips": []
      }
     },
     "6992db396f7746338aa3c821e8fea0b3": {
      "model_module": "@jupyter-widgets/output",
      "model_module_version": "1.0.0",
      "model_name": "OutputModel",
      "state": {
       "_dom_classes": [],
       "_model_module": "@jupyter-widgets/output",
       "_model_module_version": "1.0.0",
       "_model_name": "OutputModel",
       "_view_count": null,
       "_view_module": "@jupyter-widgets/output",
       "_view_module_version": "1.0.0",
       "_view_name": "OutputView",
       "layout": "IPY_MODEL_f5715811f26a410fb52ad345c1b0f688",
       "msg_id": "",
       "outputs": [
        {
         "data": {
          "image/png": "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",
          "text/plain": "<Figure size 1700x600 with 1 Axes>"
         },
         "metadata": {},
         "output_type": "display_data"
        }
       ],
       "tabbable": null,
       "tooltip": null
      }
     },
     "a30a4893a0af4dbf9f835d491a8dbf16": {
      "model_module": "@jupyter-widgets/base",
      "model_module_version": "2.0.0",
      "model_name": "LayoutModel",
      "state": {
       "_model_module": "@jupyter-widgets/base",
       "_model_module_version": "2.0.0",
       "_model_name": "LayoutModel",
       "_view_count": null,
       "_view_module": "@jupyter-widgets/base",
       "_view_module_version": "2.0.0",
       "_view_name": "LayoutView",
       "align_content": null,
       "align_items": null,
       "align_self": null,
       "border_bottom": null,
       "border_left": null,
       "border_right": null,
       "border_top": null,
       "bottom": null,
       "display": null,
       "flex": null,
       "flex_flow": null,
       "grid_area": null,
       "grid_auto_columns": null,
       "grid_auto_flow": null,
       "grid_auto_rows": null,
       "grid_column": null,
       "grid_gap": null,
       "grid_row": null,
       "grid_template_areas": null,
       "grid_template_columns": null,
       "grid_template_rows": null,
       "height": null,
       "justify_content": null,
       "justify_items": null,
       "left": null,
       "margin": null,
       "max_height": null,
       "max_width": null,
       "min_height": null,
       "min_width": null,
       "object_fit": null,
       "object_position": null,
       "order": null,
       "overflow": null,
       "padding": null,
       "right": null,
       "top": null,
       "visibility": null,
       "width": null
      }
     },
     "c554a464378a468d8a10496607b739ce": {
      "model_module": "@jupyter-widgets/controls",
      "model_module_version": "2.0.0",
      "model_name": "VBoxModel",
      "state": {
       "_dom_classes": [
        "widget-interact"
       ],
       "_model_module": "@jupyter-widgets/controls",
       "_model_module_version": "2.0.0",
       "_model_name": "VBoxModel",
       "_view_count": null,
       "_view_module": "@jupyter-widgets/controls",
       "_view_module_version": "2.0.0",
       "_view_name": "VBoxView",
       "box_style": "",
       "children": [
        "IPY_MODEL_417f4ccf6d5e4fab999bb2636b28c039",
        "IPY_MODEL_6992db396f7746338aa3c821e8fea0b3"
       ],
       "layout": "IPY_MODEL_2c166ba587d142c0a4ffbf630feb1905",
       "tabbable": null,
       "tooltip": null
      }
     },
     "f5715811f26a410fb52ad345c1b0f688": {
      "model_module": "@jupyter-widgets/base",
      "model_module_version": "2.0.0",
      "model_name": "LayoutModel",
      "state": {
       "_model_module": "@jupyter-widgets/base",
       "_model_module_version": "2.0.0",
       "_model_name": "LayoutModel",
       "_view_count": null,
       "_view_module": "@jupyter-widgets/base",
       "_view_module_version": "2.0.0",
       "_view_name": "LayoutView",
       "align_content": null,
       "align_items": null,
       "align_self": null,
       "border_bottom": null,
       "border_left": null,
       "border_right": null,
       "border_top": null,
       "bottom": null,
       "display": null,
       "flex": null,
       "flex_flow": null,
       "grid_area": null,
       "grid_auto_columns": null,
       "grid_auto_flow": null,
       "grid_auto_rows": null,
       "grid_column": null,
       "grid_gap": null,
       "grid_row": null,
       "grid_template_areas": null,
       "grid_template_columns": null,
       "grid_template_rows": null,
       "height": null,
       "justify_content": null,
       "justify_items": null,
       "left": null,
       "margin": null,
       "max_height": null,
       "max_width": null,
       "min_height": null,
       "min_width": null,
       "object_fit": null,
       "object_position": null,
       "order": null,
       "overflow": null,
       "padding": null,
       "right": null,
       "top": null,
       "visibility": null,
       "width": null
      }
     }
    },
    "version_major": 2,
    "version_minor": 0
   }
  }
 },
 "nbformat": 4,
 "nbformat_minor": 2
}
