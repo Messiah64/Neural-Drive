{
 "cells": [
  {
   "cell_type": "code",
   "execution_count": 1,
   "metadata": {
    "execution": {
     "iopub.execute_input": "2024-11-16T11:12:15.162073Z",
     "iopub.status.busy": "2024-11-16T11:12:15.161623Z",
     "iopub.status.idle": "2024-11-16T11:12:17.418472Z",
     "shell.execute_reply": "2024-11-16T11:12:17.418158Z"
    }
   },
   "outputs": [
    {
     "name": "stdout",
     "output_type": "stream",
     "text": [
      "                    Description             Value\n",
      "0                    Session id               123\n",
      "1                        Target             Label\n",
      "2                   Target type            Binary\n",
      "3                Target mapping    GO: 0, STOP: 1\n",
      "4           Original data shape         (6072, 4)\n",
      "5        Transformed data shape         (6072, 4)\n",
      "6   Transformed train set shape         (4250, 4)\n",
      "7    Transformed test set shape         (1822, 4)\n",
      "8              Numeric features                 3\n",
      "9                    Preprocess              True\n",
      "10              Imputation type            simple\n",
      "11           Numeric imputation              mean\n",
      "12       Categorical imputation              mode\n",
      "13               Fold Generator   StratifiedKFold\n",
      "14                  Fold Number                10\n",
      "15                     CPU Jobs                -1\n",
      "16                      Use GPU             False\n",
      "17               Log Experiment             False\n",
      "18              Experiment Name  clf-default-name\n",
      "19                          USI              3285\n"
     ]
    }
   ],
   "source": [
    "import pandas as pd\n",
    "from pycaret.classification import *\n",
    "\n",
    "# Load the dataset\n",
    "df = pd.read_csv('ndata.csv')\n",
    "\n",
    "# Set up the classification environment in PyCaret\n",
    "clf = setup(data=df, target='Label', session_id=123, html=False)\n"
   ]
  },
  {
   "cell_type": "code",
   "execution_count": 2,
   "metadata": {
    "execution": {
     "iopub.execute_input": "2024-11-16T11:12:17.437698Z",
     "iopub.status.busy": "2024-11-16T11:12:17.437462Z",
     "iopub.status.idle": "2024-11-16T11:12:26.111287Z",
     "shell.execute_reply": "2024-11-16T11:12:26.110439Z"
    }
   },
   "outputs": [
    {
     "name": "stderr",
     "output_type": "stream",
     "text": [
      "\r",
      "Processing:   0%|          | 0/61 [00:00<?, ?it/s]"
     ]
    },
    {
     "name": "stderr",
     "output_type": "stream",
     "text": [
      "\r",
      "Processing:   8%|▊         | 5/61 [00:03<00:33,  1.65it/s]"
     ]
    },
    {
     "name": "stderr",
     "output_type": "stream",
     "text": [
      "\r",
      "Processing:  15%|█▍        | 9/61 [00:03<00:16,  3.16it/s]"
     ]
    },
    {
     "name": "stderr",
     "output_type": "stream",
     "text": [
      "\r",
      "Processing:  21%|██▏       | 13/61 [00:03<00:09,  5.21it/s]"
     ]
    },
    {
     "name": "stderr",
     "output_type": "stream",
     "text": [
      "\r",
      "Processing:  28%|██▊       | 17/61 [00:03<00:05,  7.67it/s]"
     ]
    },
    {
     "name": "stderr",
     "output_type": "stream",
     "text": [
      "\r",
      "Processing:  34%|███▍      | 21/61 [00:03<00:03, 10.34it/s]"
     ]
    },
    {
     "name": "stderr",
     "output_type": "stream",
     "text": [
      "\r",
      "Processing:  41%|████      | 25/61 [00:03<00:02, 13.42it/s]"
     ]
    },
    {
     "name": "stderr",
     "output_type": "stream",
     "text": [
      "\r",
      "Processing:  48%|████▊     | 29/61 [00:04<00:03, 10.48it/s]"
     ]
    },
    {
     "name": "stderr",
     "output_type": "stream",
     "text": [
      "\r",
      "Processing:  54%|█████▍    | 33/61 [00:04<00:02, 13.51it/s]"
     ]
    },
    {
     "name": "stderr",
     "output_type": "stream",
     "text": [
      "\r",
      "Processing:  61%|██████    | 37/61 [00:04<00:01, 13.84it/s]"
     ]
    },
    {
     "name": "stderr",
     "output_type": "stream",
     "text": [
      "\r",
      "Processing:  67%|██████▋   | 41/61 [00:05<00:01, 10.46it/s]"
     ]
    },
    {
     "name": "stderr",
     "output_type": "stream",
     "text": [
      "\r",
      "Processing:  74%|███████▍  | 45/61 [00:05<00:01, 13.41it/s]"
     ]
    },
    {
     "name": "stderr",
     "output_type": "stream",
     "text": [
      "\r",
      "Processing:  80%|████████  | 49/61 [00:05<00:00, 12.02it/s]"
     ]
    },
    {
     "name": "stderr",
     "output_type": "stream",
     "text": [
      "\r",
      "Processing:  87%|████████▋ | 53/61 [00:08<00:01,  4.07it/s]"
     ]
    },
    {
     "name": "stderr",
     "output_type": "stream",
     "text": [
      "\r",
      "Processing:  93%|█████████▎| 57/61 [00:08<00:00,  5.44it/s]"
     ]
    },
    {
     "name": "stderr",
     "output_type": "stream",
     "text": [
      "\r",
      "Processing: 100%|██████████| 61/61 [00:08<00:00,  7.19it/s]"
     ]
    },
    {
     "name": "stderr",
     "output_type": "stream",
     "text": [
      "\r",
      "                                                           "
     ]
    },
    {
     "name": "stdout",
     "output_type": "stream",
     "text": [
      "                                    Model  Accuracy     AUC  Recall   Prec.  \\\n",
      "lr                    Logistic Regression    1.0000  1.0000  1.0000  1.0000   \n",
      "ridge                    Ridge Classifier    1.0000  1.0000  1.0000  1.0000   \n",
      "qda       Quadratic Discriminant Analysis    1.0000  1.0000  1.0000  1.0000   \n",
      "lda          Linear Discriminant Analysis    1.0000  1.0000  1.0000  1.0000   \n",
      "lightgbm  Light Gradient Boosting Machine    0.9981  1.0000  0.9981  0.9981   \n",
      "et                 Extra Trees Classifier    0.9899  0.9997  0.9899  0.9899   \n",
      "dt               Decision Tree Classifier    0.9704  0.9703  0.9704  0.9705   \n",
      "gbc          Gradient Boosting Classifier    0.9635  0.9955  0.9635  0.9646   \n",
      "rf               Random Forest Classifier    0.9626  0.9955  0.9626  0.9631   \n",
      "ada                  Ada Boost Classifier    0.9431  0.9903  0.9431  0.9451   \n",
      "knn                K Neighbors Classifier    0.8162  0.9090  0.8162  0.8172   \n",
      "nb                            Naive Bayes    0.5355  0.4980  0.5355  0.5366   \n",
      "dummy                    Dummy Classifier    0.5080  0.5000  0.5080  0.2581   \n",
      "svm                   SVM - Linear Kernel    0.5035  0.5767  0.5035  0.2536   \n",
      "\n",
      "              F1   Kappa     MCC  TT (Sec)  \n",
      "lr        1.0000  1.0000  1.0000     0.302  \n",
      "ridge     1.0000  1.0000  1.0000     0.008  \n",
      "qda       1.0000  1.0000  1.0000     0.007  \n",
      "lda       1.0000  1.0000  1.0000     0.007  \n",
      "lightgbm  0.9981  0.9962  0.9962     0.244  \n",
      "et        0.9899  0.9798  0.9798     0.037  \n",
      "dt        0.9703  0.9407  0.9409     0.008  \n",
      "gbc       0.9635  0.9270  0.9280     0.055  \n",
      "rf        0.9626  0.9251  0.9257     0.052  \n",
      "ada       0.9429  0.8860  0.8881     0.023  \n",
      "knn       0.8160  0.6321  0.6332     0.016  \n",
      "nb        0.5241  0.0665  0.0696     0.007  \n",
      "dummy     0.3423  0.0000  0.0000     0.006  \n",
      "svm       0.3373  0.0000  0.0000     0.009  \n"
     ]
    },
    {
     "name": "stderr",
     "output_type": "stream",
     "text": [
      "\r"
     ]
    }
   ],
   "source": [
    "# Compare different models to find the best one\n",
    "best_model = compare_models()"
   ]
  },
  {
   "cell_type": "code",
   "execution_count": 3,
   "metadata": {
    "execution": {
     "iopub.execute_input": "2024-11-16T11:12:26.116674Z",
     "iopub.status.busy": "2024-11-16T11:12:26.116444Z",
     "iopub.status.idle": "2024-11-16T11:12:26.273056Z",
     "shell.execute_reply": "2024-11-16T11:12:26.272264Z"
    }
   },
   "outputs": [],
   "source": [
    "# Finalize the best model\n",
    "final_model = finalize_model(best_model)"
   ]
  },
  {
   "cell_type": "code",
   "execution_count": 4,
   "metadata": {
    "execution": {
     "iopub.execute_input": "2024-11-16T11:12:26.276730Z",
     "iopub.status.busy": "2024-11-16T11:12:26.276190Z",
     "iopub.status.idle": "2024-11-16T11:12:26.434689Z",
     "shell.execute_reply": "2024-11-16T11:12:26.434427Z"
    }
   },
   "outputs": [
    {
     "data": {
      "application/vnd.jupyter.widget-view+json": {
       "model_id": "9462ff663c2a43bcadc19f4381042e72",
       "version_major": 2,
       "version_minor": 0
      },
      "text/plain": [
       "interactive(children=(ToggleButtons(description='Plot Type:', icons=('',), options=(('Pipeline Plot', 'pipelin…"
      ]
     },
     "metadata": {},
     "output_type": "display_data"
    }
   ],
   "source": [
    "# Evaluate the best model\n",
    "evaluate_model(final_model)"
   ]
  },
  {
   "cell_type": "code",
   "execution_count": 5,
   "metadata": {
    "execution": {
     "iopub.execute_input": "2024-11-16T11:12:26.436688Z",
     "iopub.status.busy": "2024-11-16T11:12:26.436609Z",
     "iopub.status.idle": "2024-11-16T11:12:26.484265Z",
     "shell.execute_reply": "2024-11-16T11:12:26.483980Z"
    }
   },
   "outputs": [
    {
     "name": "stdout",
     "output_type": "stream",
     "text": [
      "Transformation Pipeline and Model Successfully Saved\n"
     ]
    },
    {
     "data": {
      "text/plain": [
       "(Pipeline(memory=Memory(location=None),\n",
       "          steps=[('label_encoding',\n",
       "                  TransformerWrapperWithInverse(exclude=None, include=None,\n",
       "                                                transformer=LabelEncoder())),\n",
       "                 ('numerical_imputer',\n",
       "                  TransformerWrapper(exclude=None,\n",
       "                                     include=['Timestamp', 'Raw_EMG',\n",
       "                                              'Independent_Component'],\n",
       "                                     transformer=SimpleImputer(add_indicator=False,\n",
       "                                                               copy=True,\n",
       "                                                               fill_value=None,\n",
       "                                                               keep_empty_features=F...\n",
       "                                                               fill_value=None,\n",
       "                                                               keep_empty_features=False,\n",
       "                                                               missing_values=nan,\n",
       "                                                               strategy='most_frequent'))),\n",
       "                 ('actual_estimator',\n",
       "                  LogisticRegression(C=1.0, class_weight=None, dual=False,\n",
       "                                     fit_intercept=True, intercept_scaling=1,\n",
       "                                     l1_ratio=None, max_iter=1000,\n",
       "                                     multi_class='auto', n_jobs=None,\n",
       "                                     penalty='l2', random_state=123,\n",
       "                                     solver='lbfgs', tol=0.0001, verbose=0,\n",
       "                                     warm_start=False))],\n",
       "          verbose=False),\n",
       " 'nbest.pkl')"
      ]
     },
     "execution_count": 5,
     "metadata": {},
     "output_type": "execute_result"
    }
   ],
   "source": [
    "# Save the model\n",
    "save_model(final_model, 'nbest')"
   ]
  }
 ],
 "metadata": {
  "kernelspec": {
   "display_name": "subvocal",
   "language": "python",
   "name": "python3"
  },
  "language_info": {
   "codemirror_mode": {
    "name": "ipython",
    "version": 3
   },
   "file_extension": ".py",
   "mimetype": "text/x-python",
   "name": "python",
   "nbconvert_exporter": "python",
   "pygments_lexer": "ipython3",
   "version": "3.9.20"
  },
  "widgets": {
   "application/vnd.jupyter.widget-state+json": {
    "state": {
     "326dfc9632e64b99ab87e04efb2bb747": {
      "model_module": "@jupyter-widgets/output",
      "model_module_version": "1.0.0",
      "model_name": "OutputModel",
      "state": {
       "_dom_classes": [],
       "_model_module": "@jupyter-widgets/output",
       "_model_module_version": "1.0.0",
       "_model_name": "OutputModel",
       "_view_count": null,
       "_view_module": "@jupyter-widgets/output",
       "_view_module_version": "1.0.0",
       "_view_name": "OutputView",
       "layout": "IPY_MODEL_54c33c2ac47a407ca9220e01f352aa98",
       "msg_id": "",
       "outputs": [
        {
         "data": {
          "image/png": "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",
          "text/plain": "<Figure size 1700x600 with 1 Axes>"
         },
         "metadata": {},
         "output_type": "display_data"
        }
       ],
       "tabbable": null,
       "tooltip": null
      }
     },
     "54c33c2ac47a407ca9220e01f352aa98": {
      "model_module": "@jupyter-widgets/base",
      "model_module_version": "2.0.0",
      "model_name": "LayoutModel",
      "state": {
       "_model_module": "@jupyter-widgets/base",
       "_model_module_version": "2.0.0",
       "_model_name": "LayoutModel",
       "_view_count": null,
       "_view_module": "@jupyter-widgets/base",
       "_view_module_version": "2.0.0",
       "_view_name": "LayoutView",
       "align_content": null,
       "align_items": null,
       "align_self": null,
       "border_bottom": null,
       "border_left": null,
       "border_right": null,
       "border_top": null,
       "bottom": null,
       "display": null,
       "flex": null,
       "flex_flow": null,
       "grid_area": null,
       "grid_auto_columns": null,
       "grid_auto_flow": null,
       "grid_auto_rows": null,
       "grid_column": null,
       "grid_gap": null,
       "grid_row": null,
       "grid_template_areas": null,
       "grid_template_columns": null,
       "grid_template_rows": null,
       "height": null,
       "justify_content": null,
       "justify_items": null,
       "left": null,
       "margin": null,
       "max_height": null,
       "max_width": null,
       "min_height": null,
       "min_width": null,
       "object_fit": null,
       "object_position": null,
       "order": null,
       "overflow": null,
       "padding": null,
       "right": null,
       "top": null,
       "visibility": null,
       "width": null
      }
     },
     "5e31db25a06648889cd708437a6c8004": {
      "model_module": "@jupyter-widgets/base",
      "model_module_version": "2.0.0",
      "model_name": "LayoutModel",
      "state": {
       "_model_module": "@jupyter-widgets/base",
       "_model_module_version": "2.0.0",
       "_model_name": "LayoutModel",
       "_view_count": null,
       "_view_module": "@jupyter-widgets/base",
       "_view_module_version": "2.0.0",
       "_view_name": "LayoutView",
       "align_content": null,
       "align_items": null,
       "align_self": null,
       "border_bottom": null,
       "border_left": null,
       "border_right": null,
       "border_top": null,
       "bottom": null,
       "display": null,
       "flex": null,
       "flex_flow": null,
       "grid_area": null,
       "grid_auto_columns": null,
       "grid_auto_flow": null,
       "grid_auto_rows": null,
       "grid_column": null,
       "grid_gap": null,
       "grid_row": null,
       "grid_template_areas": null,
       "grid_template_columns": null,
       "grid_template_rows": null,
       "height": null,
       "justify_content": null,
       "justify_items": null,
       "left": null,
       "margin": null,
       "max_height": null,
       "max_width": null,
       "min_height": null,
       "min_width": null,
       "object_fit": null,
       "object_position": null,
       "order": null,
       "overflow": null,
       "padding": null,
       "right": null,
       "top": null,
       "visibility": null,
       "width": null
      }
     },
     "929a606750ad44ea89ae7bce3cda4450": {
      "model_module": "@jupyter-widgets/controls",
      "model_module_version": "2.0.0",
      "model_name": "ToggleButtonsModel",
      "state": {
       "_dom_classes": [],
       "_model_module": "@jupyter-widgets/controls",
       "_model_module_version": "2.0.0",
       "_model_name": "ToggleButtonsModel",
       "_options_labels": [
        "Pipeline Plot",
        "Hyperparameters",
        "AUC",
        "Confusion Matrix",
        "Threshold",
        "Precision Recall",
        "Prediction Error",
        "Class Report",
        "Feature Selection",
        "Learning Curve",
        "Manifold Learning",
        "Calibration Curve",
        "Validation Curve",
        "Dimensions",
        "Feature Importance",
        "Feature Importance (All)",
        "Decision Boundary",
        "Lift Chart",
        "Gain Chart",
        "Decision Tree",
        "KS Statistic Plot"
       ],
       "_view_count": null,
       "_view_module": "@jupyter-widgets/controls",
       "_view_module_version": "2.0.0",
       "_view_name": "ToggleButtonsView",
       "button_style": "",
       "description": "Plot Type:",
       "description_allow_html": false,
       "disabled": false,
       "icons": [
        ""
       ],
       "index": 0,
       "layout": "IPY_MODEL_ed06a321abe74208a859716118e8a4d7",
       "style": "IPY_MODEL_d68ae205f4d84c6ab2330a32fadf21da",
       "tabbable": null,
       "tooltip": null,
       "tooltips": []
      }
     },
     "9462ff663c2a43bcadc19f4381042e72": {
      "model_module": "@jupyter-widgets/controls",
      "model_module_version": "2.0.0",
      "model_name": "VBoxModel",
      "state": {
       "_dom_classes": [
        "widget-interact"
       ],
       "_model_module": "@jupyter-widgets/controls",
       "_model_module_version": "2.0.0",
       "_model_name": "VBoxModel",
       "_view_count": null,
       "_view_module": "@jupyter-widgets/controls",
       "_view_module_version": "2.0.0",
       "_view_name": "VBoxView",
       "box_style": "",
       "children": [
        "IPY_MODEL_929a606750ad44ea89ae7bce3cda4450",
        "IPY_MODEL_326dfc9632e64b99ab87e04efb2bb747"
       ],
       "layout": "IPY_MODEL_5e31db25a06648889cd708437a6c8004",
       "tabbable": null,
       "tooltip": null
      }
     },
     "d68ae205f4d84c6ab2330a32fadf21da": {
      "model_module": "@jupyter-widgets/controls",
      "model_module_version": "2.0.0",
      "model_name": "ToggleButtonsStyleModel",
      "state": {
       "_model_module": "@jupyter-widgets/controls",
       "_model_module_version": "2.0.0",
       "_model_name": "ToggleButtonsStyleModel",
       "_view_count": null,
       "_view_module": "@jupyter-widgets/base",
       "_view_module_version": "2.0.0",
       "_view_name": "StyleView",
       "button_width": "",
       "description_width": "",
       "font_weight": ""
      }
     },
     "ed06a321abe74208a859716118e8a4d7": {
      "model_module": "@jupyter-widgets/base",
      "model_module_version": "2.0.0",
      "model_name": "LayoutModel",
      "state": {
       "_model_module": "@jupyter-widgets/base",
       "_model_module_version": "2.0.0",
       "_model_name": "LayoutModel",
       "_view_count": null,
       "_view_module": "@jupyter-widgets/base",
       "_view_module_version": "2.0.0",
       "_view_name": "LayoutView",
       "align_content": null,
       "align_items": null,
       "align_self": null,
       "border_bottom": null,
       "border_left": null,
       "border_right": null,
       "border_top": null,
       "bottom": null,
       "display": null,
       "flex": null,
       "flex_flow": null,
       "grid_area": null,
       "grid_auto_columns": null,
       "grid_auto_flow": null,
       "grid_auto_rows": null,
       "grid_column": null,
       "grid_gap": null,
       "grid_row": null,
       "grid_template_areas": null,
       "grid_template_columns": null,
       "grid_template_rows": null,
       "height": null,
       "justify_content": null,
       "justify_items": null,
       "left": null,
       "margin": null,
       "max_height": null,
       "max_width": null,
       "min_height": null,
       "min_width": null,
       "object_fit": null,
       "object_position": null,
       "order": null,
       "overflow": null,
       "padding": null,
       "right": null,
       "top": null,
       "visibility": null,
       "width": null
      }
     }
    },
    "version_major": 2,
    "version_minor": 0
   }
  }
 },
 "nbformat": 4,
 "nbformat_minor": 2
}
