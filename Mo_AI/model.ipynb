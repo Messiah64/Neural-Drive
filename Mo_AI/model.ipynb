{
 "cells": [
  {
   "cell_type": "code",
   "execution_count": 11,
   "metadata": {},
   "outputs": [
    {
     "name": "stdout",
     "output_type": "stream",
     "text": [
      "                    Description             Value\n",
      "0                    Session id               123\n",
      "1                        Target             Label\n",
      "2                   Target type            Binary\n",
      "3                Target mapping     NO: 0, YES: 1\n",
      "4           Original data shape         (9613, 4)\n",
      "5        Transformed data shape         (9613, 4)\n",
      "6   Transformed train set shape         (6729, 4)\n",
      "7    Transformed test set shape         (2884, 4)\n",
      "8              Numeric features                 3\n",
      "9                    Preprocess              True\n",
      "10              Imputation type            simple\n",
      "11           Numeric imputation              mean\n",
      "12       Categorical imputation              mode\n",
      "13               Fold Generator   StratifiedKFold\n",
      "14                  Fold Number                10\n",
      "15                     CPU Jobs                -1\n",
      "16                      Use GPU             False\n",
      "17               Log Experiment             False\n",
      "18              Experiment Name  clf-default-name\n",
      "19                          USI              e2a1\n"
     ]
    }
   ],
   "source": [
    "import pandas as pd\n",
    "from pycaret.classification import *\n",
    "\n",
    "# Load the dataset\n",
    "df = pd.read_csv('data.csv')\n",
    "\n",
    "# Set up the classification environment in PyCaret\n",
    "clf = setup(data=df, target='Label', session_id=123, html=False)\n"
   ]
  },
  {
   "cell_type": "code",
   "execution_count": 12,
   "metadata": {},
   "outputs": [
    {
     "name": "stderr",
     "output_type": "stream",
     "text": [
      "                                                           "
     ]
    },
    {
     "name": "stdout",
     "output_type": "stream",
     "text": [
      "                                    Model  Accuracy     AUC  Recall   Prec.  \\\n",
      "qda       Quadratic Discriminant Analysis    1.0000  1.0000  1.0000  1.0000   \n",
      "lightgbm  Light Gradient Boosting Machine    0.9697  0.9974  0.9697  0.9698   \n",
      "dt               Decision Tree Classifier    0.9657  0.9657  0.9657  0.9658   \n",
      "et                 Extra Trees Classifier    0.9566  0.9949  0.9566  0.9570   \n",
      "gbc          Gradient Boosting Classifier    0.9524  0.9947  0.9524  0.9541   \n",
      "ada                  Ada Boost Classifier    0.9489  0.9944  0.9489  0.9495   \n",
      "xgboost         Extreme Gradient Boosting    0.9453  0.9933  0.9453  0.9455   \n",
      "rf               Random Forest Classifier    0.9440  0.9934  0.9440  0.9443   \n",
      "knn                K Neighbors Classifier    0.6037  0.6430  0.6037  0.6042   \n",
      "nb                            Naive Bayes    0.5074  0.5648  0.5074  0.5079   \n",
      "dummy                    Dummy Classifier    0.5014  0.5000  0.5014  0.2514   \n",
      "svm                   SVM - Linear Kernel    0.5007  0.5098  0.5007  0.5020   \n",
      "lr                    Logistic Regression    0.4189  0.6379  0.4189  0.4188   \n",
      "lda          Linear Discriminant Analysis    0.4189  0.6381  0.4189  0.4188   \n",
      "ridge                    Ridge Classifier    0.4186  0.6381  0.4186  0.4185   \n",
      "\n",
      "              F1   Kappa     MCC  TT (Sec)  \n",
      "qda       1.0000  1.0000  1.0000     0.012  \n",
      "lightgbm  0.9697  0.9394  0.9395     0.112  \n",
      "dt        0.9657  0.9313  0.9315     0.011  \n",
      "et        0.9566  0.9132  0.9136     0.050  \n",
      "gbc       0.9524  0.9049  0.9066     0.072  \n",
      "ada       0.9489  0.8978  0.8984     0.040  \n",
      "xgboost   0.9453  0.8906  0.8909     0.091  \n",
      "rf        0.9440  0.8879  0.8883     0.075  \n",
      "knn       0.6032  0.2074  0.2079     0.346  \n",
      "nb        0.4987  0.0154  0.0156     0.011  \n",
      "dummy     0.3349  0.0000  0.0000     0.009  \n",
      "svm       0.3721  0.0014  0.0124     0.017  \n",
      "lr        0.4188 -0.1621 -0.1622     0.514  \n",
      "lda       0.4188 -0.1621 -0.1622     0.011  \n",
      "ridge     0.4185 -0.1627 -0.1628     0.012  \n"
     ]
    },
    {
     "name": "stderr",
     "output_type": "stream",
     "text": [
      "\r"
     ]
    }
   ],
   "source": [
    "# Compare different models to find the best one\n",
    "best_model = compare_models()"
   ]
  },
  {
   "cell_type": "code",
   "execution_count": 13,
   "metadata": {},
   "outputs": [],
   "source": [
    "# Finalize the best model\n",
    "final_model = finalize_model(best_model)"
   ]
  },
  {
   "cell_type": "code",
   "execution_count": 14,
   "metadata": {},
   "outputs": [
    {
     "data": {
      "application/vnd.jupyter.widget-view+json": {
       "model_id": "ff57fc331bae46028b1e0f44d5f71539",
       "version_major": 2,
       "version_minor": 0
      },
      "text/plain": [
       "interactive(children=(ToggleButtons(description='Plot Type:', icons=('',), options=(('Pipeline Plot', 'pipelin…"
      ]
     },
     "metadata": {},
     "output_type": "display_data"
    }
   ],
   "source": [
    "# Evaluate the best model\n",
    "evaluate_model(final_model)"
   ]
  },
  {
   "cell_type": "code",
   "execution_count": 15,
   "metadata": {},
   "outputs": [
    {
     "name": "stdout",
     "output_type": "stream",
     "text": [
      "Transformation Pipeline and Model Successfully Saved\n"
     ]
    },
    {
     "data": {
      "text/plain": [
       "(Pipeline(memory=Memory(location=None),\n",
       "          steps=[('label_encoding',\n",
       "                  TransformerWrapperWithInverse(exclude=None, include=None,\n",
       "                                                transformer=LabelEncoder())),\n",
       "                 ('numerical_imputer',\n",
       "                  TransformerWrapper(exclude=None,\n",
       "                                     include=['Timestamp', 'Raw_EMG',\n",
       "                                              'Independent_Component'],\n",
       "                                     transformer=SimpleImputer(add_indicator=False,\n",
       "                                                               copy=True,\n",
       "                                                               fill_value=None,\n",
       "                                                               keep_empty_features=F...\n",
       "                                                               strategy='mean'))),\n",
       "                 ('categorical_imputer',\n",
       "                  TransformerWrapper(exclude=None, include=[],\n",
       "                                     transformer=SimpleImputer(add_indicator=False,\n",
       "                                                               copy=True,\n",
       "                                                               fill_value=None,\n",
       "                                                               keep_empty_features=False,\n",
       "                                                               missing_values=nan,\n",
       "                                                               strategy='most_frequent'))),\n",
       "                 ('actual_estimator',\n",
       "                  QuadraticDiscriminantAnalysis(priors=None, reg_param=0.0,\n",
       "                                                store_covariance=False,\n",
       "                                                tol=0.0001))],\n",
       "          verbose=False),\n",
       " 'jbest.pkl')"
      ]
     },
     "execution_count": 15,
     "metadata": {},
     "output_type": "execute_result"
    }
   ],
   "source": [
    "# Save the model\n",
    "save_model(final_model, 'jbest')"
   ]
  }
 ],
 "metadata": {
  "kernelspec": {
   "display_name": "brainwave",
   "language": "python",
   "name": "python3"
  },
  "language_info": {
   "codemirror_mode": {
    "name": "ipython",
    "version": 3
   },
   "file_extension": ".py",
   "mimetype": "text/x-python",
   "name": "python",
   "nbconvert_exporter": "python",
   "pygments_lexer": "ipython3",
   "version": "3.10.14"
  }
 },
 "nbformat": 4,
 "nbformat_minor": 2
}
